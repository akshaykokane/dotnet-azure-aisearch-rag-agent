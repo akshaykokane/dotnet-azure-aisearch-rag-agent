{
 "cells": [
  {
   "cell_type": "code",
   "execution_count": 1,
   "id": "b7bfbe48",
   "metadata": {
    "language_info": {
     "name": "polyglot-notebook"
    },
    "polyglot_notebook": {
     "kernelName": "csharp"
    }
   },
   "outputs": [
    {
     "data": {
      "text/html": [
       "<div><div></div><div></div><div><strong>Installed Packages</strong><ul><li><span>Azure.Identity, 1.15.0</span></li><li><span>Azure.Search.Documents, 11.7.0-beta.7</span></li><li><span>dotenv.net, 4.0.0</span></li></ul></div></div>"
      ]
     },
     "metadata": {},
     "output_type": "display_data"
    }
   ],
   "source": [
    "#r \"nuget: Azure.Search.Documents, 11.7.0-beta.7\"\n",
    "#r \"nuget: Azure.Identity, 1.15.0\"\n",
    "#r \"nuget:dotenv.net, 4.0.0\""
   ]
  },
  {
   "cell_type": "markdown",
   "id": "3b7cf7f7",
   "metadata": {},
   "source": [
    "# Define env constants"
   ]
  },
  {
   "cell_type": "code",
   "execution_count": 103,
   "id": "4d87e7dc",
   "metadata": {},
   "outputs": [],
   "source": [
    "using Azure.Identity;\n",
    "using Azure.AI.OpenAI;\n",
    "using Azure.AI.OpenAI.Chat;\n",
    "using OpenAI.Chat;\n",
    "\n",
    "string aoaiEmbeddingModel = \"text-embedding-3-large\";\n",
    "string aoaiEmbeddingDeployment = \"text-embedding-3-large\";\n",
    "string aoaiGptModel = \"gpt-5-mini\";\n",
    "string aoaiGptDeployment = \"gpt-5-mini\";\n",
    "\n",
    "string indexName = \"productx-report-index\";\n",
    "string knowledgeSourceName = $\"{indexName}-source\";\n",
    "string knowledgeAgentName = $\"{indexName}-agent\";\n",
    "\n",
    "var credential = new DefaultAzureCredential(includeInteractiveCredentials: true);"
   ]
  },
  {
   "cell_type": "code",
   "execution_count": 81,
   "id": "bfce101c",
   "metadata": {},
   "outputs": [],
   "source": [
    "string aoaiEndpoint = \"https://testmediumazureopenai.openai.azure.com/\";\n",
    "string searchEndpoint = \"https://ai-search-medium.search.windows.net\";"
   ]
  },
  {
   "cell_type": "markdown",
   "id": "8950ad94",
   "metadata": {},
   "source": [
    "## Define IndexKnowledge Source"
   ]
  },
  {
   "cell_type": "code",
   "execution_count": 90,
   "id": "7d9fd0d0",
   "metadata": {},
   "outputs": [
    {
     "name": "stdout",
     "output_type": "stream",
     "text": [
      "Knowledge source 'productx-report-index-source' created or updated successfully.\n"
     ]
    }
   ],
   "source": [
    "using Azure.Search.Documents.Indexes.Models;\n",
    "\n",
    "// Create the knowledge source\n",
    "var indexKnowledgeSource = new SearchIndexKnowledgeSource(\n",
    "    name: knowledgeSourceName,\n",
    "    searchIndexParameters: new SearchIndexKnowledgeSourceParameters(searchIndexName: indexName)\n",
    "    {\n",
    "        SourceDataSelect = \"chunk_id,chunk,title\"\n",
    "    }\n",
    ");\n",
    "\n",
    "await indexClient.CreateOrUpdateKnowledgeSourceAsync(indexKnowledgeSource);\n",
    "\n",
    "Console.WriteLine($\"Knowledge source '{knowledgeSourceName}' created or updated successfully.\");"
   ]
  },
  {
   "cell_type": "markdown",
   "id": "7efd124b",
   "metadata": {},
   "source": [
    "# Define Knowledge Agent"
   ]
  },
  {
   "cell_type": "code",
   "execution_count": 96,
   "id": "d4a7940e",
   "metadata": {},
   "outputs": [
    {
     "name": "stdout",
     "output_type": "stream",
     "text": [
      "Knowledge agent 'productx-report-index-agent' created or updated successfully.\n"
     ]
    }
   ],
   "source": [
    "using Azure.Search.Documents.Indexes.Models;\n",
    "using Azure.Search.Documents.Models;\n",
    "\n",
    "var openAiParameters = new AzureOpenAIVectorizerParameters\n",
    "{\n",
    "    ResourceUri = new Uri(aoaiEndpoint),\n",
    "    DeploymentName = aoaiGptDeployment,\n",
    "    ModelName = aoaiGptModel\n",
    "};\n",
    "\n",
    "var agentModel = new KnowledgeAgentAzureOpenAIModel(azureOpenAIParameters: openAiParameters);\n",
    "\n",
    "var outputConfig = new KnowledgeAgentOutputConfiguration\n",
    "{\n",
    "    Modality = KnowledgeAgentOutputConfigurationModality.AnswerSynthesis,\n",
    "    IncludeActivity = true\n",
    "};\n",
    "\n",
    "// Create the knowledge agent\n",
    "var agent = new KnowledgeAgent(\n",
    "    name: knowledgeAgentName,\n",
    "    models: new[] { agentModel },\n",
    "    knowledgeSources: new KnowledgeSourceReference[] { \n",
    "        new KnowledgeSourceReference(knowledgeSourceName) \n",
    "        {\n",
    "             IncludeReferences = true, IncludeReferenceSourceData = true, RerankerThreshold = (float?)2.5 }\n",
    "        }\n",
    ")\n",
    "{\n",
    "    OutputConfiguration = outputConfig\n",
    "};\n",
    "\n",
    "await indexClient.CreateOrUpdateKnowledgeAgentAsync(agent);\n",
    "Console.WriteLine($\"Knowledge agent '{knowledgeAgentName}' created or updated successfully.\");"
   ]
  },
  {
   "cell_type": "markdown",
   "id": "fbab6157",
   "metadata": {},
   "source": [
    "# Test Agent"
   ]
  },
  {
   "cell_type": "code",
   "execution_count": 100,
   "id": "1571d3d1",
   "metadata": {},
   "outputs": [],
   "source": [
    "string instructions = @\"\n",
    "You are a Q&A agent that can answer questions about the Product report. Your knowledge is strictly limited to the information contained within the provided text.\n",
    "\n",
    "Carefully analyze the user's question and the context from the report.\n",
    "\n",
    "If the answer is present in the provided text, give a concise and accurate response based only on that information.\n",
    "\n",
    "If the answer cannot be found in the provided text, you must respond with the exact phrase: 'I don't know'.\n",
    "\n",
    "Do not make assumptions or use any external knowledge.\n",
    "\";\n",
    "\n",
    "var messages = new List<Dictionary<string, string>>\n",
    "{\n",
    "    new Dictionary<string, string>\n",
    "    {\n",
    "        { \"role\", \"system\" },\n",
    "        { \"content\", instructions }\n",
    "    }\n",
    "};"
   ]
  },
  {
   "cell_type": "code",
   "execution_count": 101,
   "id": "653d27ad",
   "metadata": {},
   "outputs": [],
   "source": [
    "using Azure.Search.Documents.Agents;\n",
    "using Azure.Search.Documents.Agents.Models;\n",
    "\n",
    "var agentClient = new KnowledgeAgentRetrievalClient(\n",
    "    endpoint: new Uri(searchEndpoint),\n",
    "    agentName: knowledgeAgentName,\n",
    "    tokenCredential: new DefaultAzureCredential()\n",
    ");\n",
    "\n",
    "messages.Add(new Dictionary<string, string>\n",
    "{\n",
    "    { \"role\", \"user\" },\n",
    "    { \"content\", @\"\n",
    "Write marketingemail for Product X based on the customer insights?\n",
    "\" }\n",
    "});\n",
    "\n",
    "var retrievalResult = await agentClient.RetrieveAsync(\n",
    "    retrievalRequest: new KnowledgeAgentRetrievalRequest(\n",
    "        messages: messages\n",
    "            .Where(message => message[\"role\"] != \"system\")\n",
    "            .Select(\n",
    "            message => new KnowledgeAgentMessage(content: new[] { new KnowledgeAgentMessageTextContent(message[\"content\"]) })  { Role = message[\"role\"] }\n",
    "            )\n",
    "            .ToList()\n",
    "    )\n",
    ");\n",
    "\n",
    "messages.Add(new Dictionary<string, string>\n",
    "{\n",
    "    { \"role\", \"assistant\" },\n",
    "    { \"content\", (retrievalResult.Value.Response[0].Content[0] as KnowledgeAgentMessageTextContent).Text }\n",
    "});"
   ]
  },
  {
   "cell_type": "code",
   "execution_count": 102,
   "id": "d34518c5",
   "metadata": {},
   "outputs": [
    {
     "data": {
      "text/plain": [
       "Subject: Why customers love Product X — comfort, long battery, and smarter coaching\n",
       "\n",
       "Hi there,\n",
       "\n",
       "Information was found showing that 82% of customers rated Product X four stars or higher — including 58% who gave it five stars — highlighting broad satisfaction among users [ref_id:0][ref_id:4]. Comfort, battery life, and seamless app integration were the most praised attributes, and comfort showed the strongest link to repeat purchases and positive referrals [ref_id:0][ref_id:4].\n",
       "\n",
       "Choose the Product X that fits your life:\n",
       "- Product X Active — core tracking (steps, heart rate, calories) with 10-day battery life, great for everyday users and fitness beginners, priced at $99 [ref_id:0].\n",
       "- Product X Pro — all Active features plus SpO2, HRV, advanced sleep analytics, VO2 Max, and adaptive coaching; the Pro model accounted for 40% of new unit sales and has a 7-day battery life, priced at $179 [ref_id:0].\n",
       "- Product X Kids — step tracking, active minutes, sleep monitoring, gamified goals, and a parent dashboard with a 14-day battery life, priced at $69 [ref_id:0].\n",
       "\n",
       "We’ve also strengthened support to match the product experience: average first-response time improved to 4 hours and Net Promoter Score rose to 74, reflecting higher customer satisfaction and faster help when it’s needed [ref_id:1].\n",
       "\n",
       "If comfort, long battery life, and an intuitive app matter to you, Product X is designed around those priorities — just like many of our satisfied customers have shared [ref_id:0][ref_id:4].\n",
       "\n",
       "Reply to this email to learn which model is best for you or to arrange a demo — we’d love to help you get started.\n",
       "\n",
       "Best regards,\n",
       "The Product X Team"
      ]
     },
     "metadata": {},
     "output_type": "display_data"
    }
   ],
   "source": [
    "(retrievalResult.Value.Response[0].Content[0] as KnowledgeAgentMessageTextContent).Text "
   ]
  },
  {
   "cell_type": "code",
   "execution_count": null,
   "id": "b673f9e2",
   "metadata": {},
   "outputs": [],
   "source": []
  }
 ],
 "metadata": {
  "kernelspec": {
   "display_name": ".NET (C#)",
   "language": "C#",
   "name": ".net-csharp"
  },
  "language_info": {
   "name": "polyglot-notebook"
  },
  "polyglot_notebook": {
   "kernelInfo": {
    "defaultKernelName": "csharp",
    "items": [
     {
      "aliases": [],
      "languageName": "csharp",
      "name": "csharp"
     }
    ]
   }
  }
 },
 "nbformat": 4,
 "nbformat_minor": 5
}
